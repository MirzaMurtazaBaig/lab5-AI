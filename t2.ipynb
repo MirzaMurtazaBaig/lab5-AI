{
 "cells": [
  {
   "cell_type": "code",
   "execution_count": 3,
   "id": "1312e9fe-2642-4f9b-b0d8-94271e97af7f",
   "metadata": {},
   "outputs": [
    {
     "name": "stdout",
     "output_type": "stream",
     "text": [
      "Confusion Matrix:\n",
      "[[4 0]\n",
      " [0 5]]\n",
      "Accuracy Score: 1.0\n",
      "Prediction for new entry (Height=6.00, Weight=180, Foot_Size=12): Female\n"
     ]
    }
   ],
   "source": [
    "import pandas as pd\n",
    "from sklearn.tree import DecisionTreeClassifier\n",
    "from sklearn.metrics import confusion_matrix, accuracy_score\n",
    "\n",
    "data = {\n",
    "    'Gender': ['male', 'male', 'male', 'male', 'female', 'female', 'female', 'female'],\n",
    "    'Height': [6.00, 5.92, 5.58, 5.92, 5.00, 5.50, 5.42, 5.75],\n",
    "    'Weight': [180, 190, 170, 165, 100, 150, 130, 150],\n",
    "    'Foot_Size': [12, 11, 12, 10, 6, 8, 7, 9]\n",
    "}\n",
    "\n",
    "df = pd.DataFrame(data)\n",
    "df['Gender'] = df['Gender'].map({'male': 1, 'female': 0})\n",
    "\n",
    "features = df[['Height', 'Weight', 'Foot_Size']].values\n",
    "labels = df['Gender'].values\n",
    "\n",
    "classifier = DecisionTreeClassifier()\n",
    "classifier = classifier.fit(features, labels)\n",
    "\n",
    "new_entry = {'Gender': 'male', 'Height': 6.00, 'Weight': 180, 'Foot_Size': 12}\n",
    "new_entry_df = pd.DataFrame([new_entry])\n",
    "new_entry_df['Gender'] = new_entry_df['Gender'].map({'male': 1, 'female': 0})\n",
    "\n",
    "df = pd.concat([df, new_entry_df], ignore_index=True)\n",
    "\n",
    "features_updated = df[['Height', 'Weight', 'Foot_Size']].values\n",
    "labels_updated = df['Gender'].values\n",
    "\n",
    "classifier = classifier.fit(features_updated, labels_updated)\n",
    "\n",
    "new_entry_features = [[5.00, 100, 6]]\n",
    "new_prediction = classifier.predict(new_entry_features)\n",
    "\n",
    "predictions = classifier.predict(features_updated)\n",
    "cm = confusion_matrix(labels_updated, predictions)\n",
    "accuracy = accuracy_score(labels_updated, predictions)\n",
    "\n",
    "print(\"Confusion Matrix:\")\n",
    "print(cm)\n",
    "\n",
    "print(f\"Accuracy Score: {accuracy}\")\n",
    "\n",
    "print(f\"Prediction for new entry (Height=6.00, Weight=180, Foot_Size=12): {'Male' if new_prediction[0] == 1 else 'Female'}\")"
   ]
  },
  {
   "cell_type": "code",
   "execution_count": null,
   "id": "c324401e-474e-4672-ab23-b36cde947000",
   "metadata": {},
   "outputs": [],
   "source": []
  }
 ],
 "metadata": {
  "kernelspec": {
   "display_name": "Python 3 (ipykernel)",
   "language": "python",
   "name": "python3"
  },
  "language_info": {
   "codemirror_mode": {
    "name": "ipython",
    "version": 3
   },
   "file_extension": ".py",
   "mimetype": "text/x-python",
   "name": "python",
   "nbconvert_exporter": "python",
   "pygments_lexer": "ipython3",
   "version": "3.12.7"
  }
 },
 "nbformat": 4,
 "nbformat_minor": 5
}
